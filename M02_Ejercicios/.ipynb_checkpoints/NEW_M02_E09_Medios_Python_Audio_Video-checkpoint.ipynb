{
 "cells": [
  {
   "cell_type": "code",
   "execution_count": null,
   "id": "4004759b",
   "metadata": {},
   "outputs": [],
   "source": [
    "### Se Necesita instalar :\n",
    "###     Usar un .wav corto y en formato PCM 16-bit para evitar errores.\n",
    "\n",
    "pip install sounddevice soundfile matplotlib\n",
    "\n"
   ]
  },
  {
   "cell_type": "code",
   "execution_count": null,
   "id": "f033fcb6",
   "metadata": {},
   "outputs": [],
   "source": [
    "## 1- Generar un sonido (onda senoidal).\n",
    "## 2- Cargar un sampler (archivo .wav).\n",
    "## 3- Graficar una señal con matplotlib.\n",
    "## 4- Todo junto: cargar, graficar y reproducir.\n"
   ]
  },
  {
   "cell_type": "code",
   "execution_count": null,
   "id": "91c5a672",
   "metadata": {},
   "outputs": [],
   "source": [
    "### 1. Generar un sonido (onda senoidal)\n",
    "import numpy as np\n",
    "import sounddevice as sd\n",
    "\n",
    "# Parámetros\n",
    "fs = 44100        # frecuencia de muestreo (Hz)\n",
    "f = 440           # frecuencia del tono (Hz, La4)\n",
    "dur = 2           # duración en segundos\n",
    "\n",
    "# Generar onda senoidal\n",
    "t = np.linspace(0, dur, int(fs*dur), endpoint=False)\n",
    "wave = 0.5 * np.sin(2 * np.pi * f * t)\n",
    "\n",
    "# Reproducir\n",
    "sd.play(wave, fs)\n",
    "sd.wait()\n"
   ]
  },
  {
   "cell_type": "code",
   "execution_count": null,
   "id": "fac02232",
   "metadata": {},
   "outputs": [],
   "source": [
    "### 2. Cargar un sampler (archivo .wav)\n",
    "import soundfile as sf\n",
    "import sounddevice as sd\n",
    "\n",
    "\n",
    "# Cargar archivo WAV\n",
    "data, fs = sf.read(\"mi_sonido.wav\")\n",
    "\n",
    "# Reproducir\n",
    "sd.play(data, fs)\n",
    "sd.wait()\n",
    "\n"
   ]
  },
  {
   "cell_type": "code",
   "execution_count": null,
   "id": "f6cbf159",
   "metadata": {},
   "outputs": [],
   "source": [
    "## 3. Graficar una señal con matplotlib\n",
    "import numpy as np\n",
    "import matplotlib.pyplot as plt\n",
    "\n",
    "# Señal artificial\n",
    "fs = 44100\n",
    "f = 5\n",
    "t = np.linspace(0, 1, fs)\n",
    "wave = np.sin(2*np.pi*f*t)\n",
    "\n",
    "\n",
    "# Graficar\n",
    "plt.plot(t[:500], wave[:500])   # solo primeros 500 samples\n",
    "plt.title(\"Onda senoidal 5 Hz\")\n",
    "plt.xlabel(\"Tiempo (s)\")\n",
    "plt.ylabel(\"Amplitud\")\n",
    "plt.show()\n"
   ]
  },
  {
   "cell_type": "code",
   "execution_count": null,
   "id": "cb0ed858",
   "metadata": {},
   "outputs": [],
   "source": [
    "\n",
    "### 4. Juntar todo: cargar, graficar y reproducir\n",
    "import soundfile as sf\n",
    "import sounddevice as sd\n",
    "import matplotlib.pyplot as plt\n",
    "import numpy as np\n",
    "\n",
    "\n",
    "# Cargar sampler\n",
    "data, fs = sf.read(\"mi_sonido.wav\")\n",
    "\n",
    "\n",
    "# Graficar primeros samples\n",
    "t = np.arange(len(data)) / fs\n",
    "plt.plot(t[:1000], data[:1000])\n",
    "plt.title(\"Forma de onda del sampler\")\n",
    "plt.xlabel(\"Tiempo (s)\")\n",
    "plt.ylabel(\"Amplitud\")\n",
    "plt.show()\n",
    "\n",
    "\n",
    "# Reproducir\n",
    "sd.play(data, fs)\n",
    "sd.wait()\n"
   ]
  }
 ],
 "metadata": {
  "kernelspec": {
   "display_name": "Python 3 (ipykernel)",
   "language": "python",
   "name": "python3"
  },
  "language_info": {
   "codemirror_mode": {
    "name": "ipython",
    "version": 3
   },
   "file_extension": ".py",
   "mimetype": "text/x-python",
   "name": "python",
   "nbconvert_exporter": "python",
   "pygments_lexer": "ipython3",
   "version": "3.9.13"
  }
 },
 "nbformat": 4,
 "nbformat_minor": 5
}
